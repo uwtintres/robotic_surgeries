{
  "nbformat": 4,
  "nbformat_minor": 0,
  "metadata": {
    "colab": {
      "name": "TOPSIS.ipynb",
      "provenance": [],
      "collapsed_sections": [],
      "authorship_tag": "ABX9TyMm/rhAy+ZPevFo9aFSH4wr",
      "include_colab_link": true
    },
    "kernelspec": {
      "name": "python3",
      "display_name": "Python 3"
    },
    "language_info": {
      "name": "python"
    }
  },
  "cells": [
    {
      "cell_type": "markdown",
      "metadata": {
        "id": "view-in-github",
        "colab_type": "text"
      },
      "source": [
        "<a href=\"https://colab.research.google.com/github/uwtintres/robotic_surgeries/blob/main/TOPSIS.ipynb\" target=\"_parent\"><img src=\"https://colab.research.google.com/assets/colab-badge.svg\" alt=\"Open In Colab\"/></a>"
      ]
    },
    {
      "cell_type": "markdown",
      "metadata": {
        "id": "ffDMBEtRdKKv"
      },
      "source": [
        "Project is the work of Alina Saduova, CSS graduate student at UWT,  Spring'21. \n",
        "This notebook is used for the TOPSIS algorithm with custom weights. The processing is done according to the next steps:\n",
        "\n",
        "1. Load .csv file with columns as attributes and rows as alternatives. \n",
        "2. Provide the array of weights as an input to the processing function. Also, the criteria types should be provided as the array, where the False value should be used in the weights of attributes with cost criteria (minimum value of the attribute is preferred), while for the attribute with benefit criteria (max value is preferred) True value should be provided. \n",
        "3. Processing of the input file is done on this step according to the weights provided on step 2.\n",
        "4. Visualizing the results.\n",
        "\n",
        "The following code is used for the TOPSIS experiment with custom weights. Each step of the experiment is printed for better understanding and the visualization chart for the rankings is porivded afterwards."
      ]
    },
    {
      "cell_type": "code",
      "metadata": {
        "id": "LEr-G25MeMZ0"
      },
      "source": [
        "import numpy as np\n",
        "import pandas as pd\n",
        "import warnings\n",
        "import matplotlib.pyplot as plt\n",
        "\n",
        "class Topsis():\n",
        "    evaluation_matrix = np.array([])  # Matrix\n",
        "    weighted_normalized = np.array([])  # Weight matrix\n",
        "    normalized_decision = np.array([])  # Normalisation matrix\n",
        "    M = 0  # Number of rows\n",
        "    N = 0  # Number of columns\n",
        "\n",
        "    '''\n",
        "\tCreate an evaluation matrix consisting of m alternatives and n criteria.\n",
        "\t  '''\n",
        "\n",
        "    def __init__(self, evaluation_matrix, weight_matrix, criteria):\n",
        "        # M×N matrix\n",
        "        self.evaluation_matrix = np.array(evaluation_matrix, dtype=\"float\")\n",
        "\n",
        "        # M alternatives (options)\n",
        "        self.row_size = len(self.evaluation_matrix)\n",
        "\n",
        "        # N attributes/criteria\n",
        "        self.column_size = len(self.evaluation_matrix[0])\n",
        "\n",
        "        # N size weight matrix\n",
        "        self.weight_matrix = np.array(weight_matrix, dtype=\"float\")\n",
        "        self.weight_matrix = self.weight_matrix/sum(self.weight_matrix)\n",
        "        self.criteria = np.array(criteria, dtype=\"float\")\n",
        "\n",
        "    '''\n",
        "\t# Step 2\n",
        "\tThe matrix  is then normalised.\n",
        "\t'''\n",
        "\n",
        "    def step_2(self):\n",
        "        # normalized scores\n",
        "        self.normalized_decision = np.copy(self.evaluation_matrix)\n",
        "        sqrd_sum = np.zeros(self.column_size)\n",
        "        for i in range(self.row_size):\n",
        "            for j in range(self.column_size):\n",
        "                sqrd_sum[j] += self.evaluation_matrix[i, j]**2\n",
        "        for i in range(self.row_size):\n",
        "            for j in range(self.column_size):\n",
        "                self.normalized_decision[i,\n",
        "                                         j] = self.evaluation_matrix[i, j]/(sqrd_sum[j]**0.5)\n",
        "\n",
        "    '''\n",
        "\t# Step 3\n",
        "\tCalculate the weighted normalised decision matrix\n",
        "\t'''\n",
        "\n",
        "    def step_3(self):\n",
        "        from pdb import set_trace\n",
        "        self.weighted_normalized = np.copy(self.normalized_decision)\n",
        "        for i in range(self.row_size):\n",
        "            for j in range(self.column_size):\n",
        "                self.weighted_normalized[i, j] *= self.weight_matrix[j]\n",
        "\n",
        "    '''\n",
        "\t# Step 4\n",
        "\tDetermine the ideal worst alternative and the ideal best alternative:\n",
        "\t'''\n",
        "\n",
        "    def step_4(self):\n",
        "        self.worst_alternatives = np.zeros(self.column_size)\n",
        "        self.best_alternatives = np.zeros(self.column_size)\n",
        "        for i in range(self.column_size):\n",
        "            if self.criteria[i]:\n",
        "                self.worst_alternatives[i] = min(\n",
        "                    self.weighted_normalized[:, i])\n",
        "                self.best_alternatives[i] = max(self.weighted_normalized[:, i])\n",
        "            else:\n",
        "                self.worst_alternatives[i] = max(\n",
        "                    self.weighted_normalized[:, i])\n",
        "                self.best_alternatives[i] = min(self.weighted_normalized[:, i])\n",
        "\n",
        "    '''\n",
        "\t# Step 5\n",
        "\tCalculate the L2-distance between the target alternative with the ideal worst \n",
        "  value and the ideal best value.\n",
        "\t'''\n",
        "\n",
        "    def step_5(self):\n",
        "        self.worst_distance = np.zeros(self.row_size)\n",
        "        self.best_distance = np.zeros(self.row_size)\n",
        "\n",
        "        self.worst_distance_mat = np.copy(self.weighted_normalized)\n",
        "        self.best_distance_mat = np.copy(self.weighted_normalized)\n",
        "\n",
        "        for i in range(self.row_size):\n",
        "            for j in range(self.column_size):\n",
        "                self.worst_distance_mat[i][j] = (self.weighted_normalized[i][j]-self.worst_alternatives[j])**2\n",
        "                self.best_distance_mat[i][j] = (self.weighted_normalized[i][j]-self.best_alternatives[j])**2\n",
        "                \n",
        "                self.worst_distance[i] += self.worst_distance_mat[i][j]\n",
        "                self.best_distance[i] += self.best_distance_mat[i][j]\n",
        "\n",
        "        for i in range(self.row_size):\n",
        "            self.worst_distance[i] = self.worst_distance[i]**0.5\n",
        "            self.best_distance[i] = self.best_distance[i]**0.5\n",
        "\n",
        "    '''\n",
        "\t# Step 6\n",
        "\tCalculate the preformance score\n",
        "\t'''\n",
        "\n",
        "    def step_6(self):\n",
        "        np.seterr(all='ignore')\n",
        "        self.preformance_score = np.zeros(self.row_size)\n",
        "\n",
        "        for i in range(self.row_size):\n",
        "            # calculate the similarity to the worst condition\n",
        "            self.preformance_score[i] = self.worst_distance[i] / \\\n",
        "                (self.worst_distance[i]+self.best_distance[i])\n",
        "    \n",
        "    def ranking(self, data):\n",
        "        return [i+1 for i in np.argsort(-1*data)]\n",
        "\n",
        "    def rank_to_preformance_score(self):\n",
        "        return self.ranking(self.preformance_score)\n",
        "\n",
        "    def visualization(self, ranking):\n",
        "        #ax = fig.add_axes([0,0,1,1])\n",
        "        axes = []\n",
        "        for i, rank in enumerate(ranking):\n",
        "          axes.append(((rank), (i + 1)))\n",
        "        axes.sort(key=lambda x: x[0])\n",
        "        x_axis,y_axis = ['A' + str(val[0]) for val in axes],[val[1] for val in axes]\n",
        "        plt.figure(figsize=(12, 6))\n",
        "        ax = pd.Series(y_axis).plot(kind='bar')\n",
        "        ax.set_xticklabels(x_axis)\n",
        "\n",
        "        rects = ax.patches\n",
        "        for rect, label in zip(rects, y_axis):\n",
        "            height = rect.get_height()\n",
        "            ax.text(rect.get_x() + rect.get_width()/2, height, label, ha='center', va='bottom')\n",
        "        ax.bar(x_axis,y_axis)\n",
        "\n",
        "    def calc(self):\n",
        "        print(\"Step 1\\n\", self.evaluation_matrix, end=\"\\n\\n\")\n",
        "        self.step_2()\n",
        "        print(\"Step 2\\n\", self.normalized_decision, end=\"\\n\\n\")\n",
        "        self.step_3()\n",
        "        print(\"Step 3\\n\", self.weighted_normalized, end=\"\\n\\n\")\n",
        "        self.step_4()\n",
        "        print(\"Step 4\\n\", self.worst_alternatives,\n",
        "              self.best_alternatives, end=\"\\n\\n\")\n",
        "        self.step_5()\n",
        "        print(\"Step 5\\n\", self.worst_distance, self.best_distance, end=\"\\n\\n\")\n",
        "        self.step_6()\n",
        "        print(\"Step 6\\n\", self.preformance_score, end=\"\\n\\n\")\n",
        "        "
      ],
      "execution_count": 81,
      "outputs": []
    },
    {
      "cell_type": "markdown",
      "metadata": {
        "id": "BGFH3LODSlYd"
      },
      "source": [
        "The driver code for testing is presented below. The execution plan is as follows:\n",
        "  1. Read the excel file, where the file name and sheet_name should be provided to specify which case user wants to test. \n",
        "  2. Read the excel file to store the weights and criteria values.\n",
        "  3. Create Topsis instance with the read values\n",
        "  4. Calculate the rankings"
      ]
    },
    {
      "cell_type": "code",
      "metadata": {
        "colab": {
          "base_uri": "https://localhost:8080/"
        },
        "id": "VDZ2YsUQiivO",
        "outputId": "8590e83e-bf82-4dd6-e553-be9709bb0deb"
      },
      "source": [
        "import numpy as np\n",
        "import pandas as pd \n",
        "\n",
        "xl = pd.read_excel(\"TOPSIS with custom weights.xlsx\", sheet_name=\"Beginning\", \n",
        "                   usecols=range(1, len(xl.columns)+1))\n",
        "\n",
        "# initializing input matrix, weights, criterias\n",
        "input_matrix = xl.tail(n=len(xl.index) - 2).values.tolist()\n",
        "weights = xl.loc[0].values\n",
        "criterias = xl.head(n=0).columns.values\n",
        "new_criterias = []\n",
        "for criteria in criterias:\n",
        "  # if the attribute is non beneficiary, meaning min value is better -> False, \n",
        "  # otherwise, the criteria is True\n",
        "  new_criterias.append(False if criteria[0] == 'N' else True)\n",
        "print('input matrix: ', input_matrix)\n",
        "print('weights: ', weights)\n",
        "print('criterias: ', new_criterias)\n",
        "# creating Topsis instance with the values above\n"
      ],
      "execution_count": 98,
      "outputs": [
        {
          "output_type": "stream",
          "name": "stdout",
          "text": [
            "input matrix:  [[21, 300, 90, 60], [45, 800, 74, 30], [64, 700, 12, 90], [86, 1000, 36, 10], [75, 100, 24, 5], [34, 1200, 47, 23], [56, 400, 55, 67], [90, 350, 67, 84], [60, 580, 74, 75], [70, 460, 86, 98], [80, 220, 98, 46], [10, 900, 40, 15]]\n",
            "weights:  [0.6 0.1 0.1 0.2]\n",
            "criterias:  [False, False, False, False]\n"
          ]
        }
      ]
    },
    {
      "cell_type": "code",
      "metadata": {
        "colab": {
          "base_uri": "https://localhost:8080/",
          "height": 1000
        },
        "id": "2mZYgkqNisQI",
        "outputId": "13c2189c-6bc6-4284-a8a0-3c3990c19157"
      },
      "source": [
        "t = Topsis(input_matrix, weights, new_criterias)\n",
        "\n",
        "# calculating the ranking\n",
        "t.calc()\n",
        "\n",
        "ranks = t.rank_to_preformance_score()\n",
        "\n",
        "print(\"Visualization graph:\")\n",
        "t.visualization(ranks)  "
      ],
      "execution_count": 96,
      "outputs": [
        {
          "output_type": "stream",
          "name": "stdout",
          "text": [
            "Step 1\n",
            " [[  21.  300.   90.   60.]\n",
            " [  45.  800.   74.   30.]\n",
            " [  64.  700.   12.   90.]\n",
            " [  86. 1000.   36.   10.]\n",
            " [  75.  100.   24.    5.]\n",
            " [  34. 1200.   47.   23.]\n",
            " [  56.  400.   55.   67.]\n",
            " [  90.  350.   67.   84.]\n",
            " [  60.  580.   74.   75.]\n",
            " [  70.  460.   86.   98.]\n",
            " [  80.  220.   98.   46.]\n",
            " [  10.  900.   40.   15.]]\n",
            "\n",
            "Step 2\n",
            " [[0.09689155 0.12959356 0.40496603 0.29149234]\n",
            " [0.20762475 0.34558283 0.33297207 0.14574617]\n",
            " [0.29528853 0.30238498 0.05399547 0.43723851]\n",
            " [0.39679396 0.43197854 0.16198641 0.04858206]\n",
            " [0.34604125 0.04319785 0.10799094 0.02429103]\n",
            " [0.15687203 0.51837425 0.21148226 0.11173873]\n",
            " [0.25837746 0.17279142 0.24747924 0.32549978]\n",
            " [0.4152495  0.15119249 0.30147471 0.40808927]\n",
            " [0.276833   0.25054755 0.33297207 0.36436542]\n",
            " [0.32297183 0.19871013 0.38696754 0.47610415]\n",
            " [0.36911066 0.09503528 0.44096302 0.22347746]\n",
            " [0.04613883 0.38878069 0.1799849  0.07287308]]\n",
            "\n",
            "Step 3\n",
            " [[0.05813493 0.01295936 0.0404966  0.05829847]\n",
            " [0.12457485 0.03455828 0.03329721 0.02914923]\n",
            " [0.17717312 0.0302385  0.00539955 0.0874477 ]\n",
            " [0.23807638 0.04319785 0.01619864 0.00971641]\n",
            " [0.20762475 0.00431979 0.01079909 0.00485821]\n",
            " [0.09412322 0.05183742 0.02114823 0.02234775]\n",
            " [0.15502648 0.01727914 0.02474792 0.06509996]\n",
            " [0.2491497  0.01511925 0.03014747 0.08161785]\n",
            " [0.1660998  0.02505476 0.03329721 0.07287308]\n",
            " [0.1937831  0.01987101 0.03869675 0.09522083]\n",
            " [0.2214664  0.00950353 0.0440963  0.04469549]\n",
            " [0.0276833  0.03887807 0.01799849 0.01457462]]\n",
            "\n",
            "Step 4\n",
            " [0.2491497  0.05183742 0.0440963  0.09522083] [0.0276833  0.00431979 0.00539955 0.00485821]\n",
            "\n",
            "Step 5\n",
            " [0.19842975 0.14247645 0.08488228 0.09103047 0.11513625 0.17283029\n",
            " 0.10646634 0.04156724 0.09072287 0.0641597  0.07149359 0.2374873 ] [0.07134149 0.10803089 0.17274261 0.21428246 0.18002244 0.08500643\n",
            " 0.14278536 0.23594172 0.15809291 0.19262682 0.20165121 0.03804493]\n",
            "\n",
            "Step 6\n",
            " [0.73554818 0.5687516  0.32948013 0.29815464 0.39008253 0.67030905\n",
            " 0.4271439  0.14978701 0.36461863 0.24985618 0.26174246 0.86192202]\n",
            "\n",
            "Visualization graph:\n"
          ]
        },
        {
          "output_type": "display_data",
          "data": {
            "image/png": "[encoded data removed]",
            "text/plain": [
              "<Figure size 864x432 with 1 Axes>"
            ]
          },
          "metadata": {
            "needs_background": "light"
          }
        }
      ]
    }
  ]
}