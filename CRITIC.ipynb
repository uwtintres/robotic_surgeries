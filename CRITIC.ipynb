{
  "nbformat": 4,
  "nbformat_minor": 0,
  "metadata": {
    "colab": {
      "name": "CRITIC.ipynb",
      "provenance": [],
      "collapsed_sections": [],
      "authorship_tag": "ABX9TyOC2N0/oD6U5hQcEyfXlFsy",
      "include_colab_link": true
    },
    "kernelspec": {
      "name": "python3",
      "display_name": "Python 3"
    },
    "language_info": {
      "name": "python"
    }
  },
  "cells": [
    {
      "cell_type": "markdown",
      "metadata": {
        "id": "view-in-github",
        "colab_type": "text"
      },
      "source": [
        "<a href=\"https://colab.research.google.com/github/uwtintres/robotic_surgeries/blob/main/CRITIC.ipynb\" target=\"_parent\"><img src=\"https://colab.research.google.com/assets/colab-badge.svg\" alt=\"Open In Colab\"/></a>"
      ]
    },
    {
      "cell_type": "markdown",
      "source": [
        "Project is the work of Alina Saduova, CSS graduate student at UWT, Spring'21. This notebook is used for the implementation of weight generation named CRITIC method. The calculation of the weights is done according to the input data that we provide, meaning according to the values of each alternative for each attribute. "
      ],
      "metadata": {
        "id": "XGKW59u0pxRL"
      }
    },
    {
      "cell_type": "code",
      "metadata": {
        "id": "Q6KUYpRVszUi"
      },
      "source": [
        "import numpy as np\n",
        "import pandas as pd\n",
        "import warnings\n",
        "import matplotlib.pyplot as plt\n",
        "import statistics \n",
        "\n",
        "class Critic():\n",
        "    evaluation_matrix = np.array([])  # Matrix\n",
        "    '''\n",
        "\tCreate an evaluation matrix consisting of m alternatives and n criteria.\n",
        "\t  '''\n",
        "\n",
        "    def __init__(self, evaluation_matrix, criteria):\n",
        "        # M×N matrix\n",
        "        self.evaluation_matrix = np.array(evaluation_matrix, dtype=\"float\")\n",
        "\n",
        "        # M alternatives (options)\n",
        "        self.row_size = len(self.evaluation_matrix)\n",
        "\n",
        "        # N attributes/criteria\n",
        "        self.column_size = len(self.evaluation_matrix[0])\n",
        "\n",
        "        self.criteria = np.array(criteria, dtype=\"float\")\n",
        "    '''\n",
        "\t# Step 2\n",
        "\tThe matrix is then normalised.\n",
        "\t'''\n",
        "\n",
        "    def step_2(self):\n",
        "        # normalized scores\n",
        "        self.normalized_decision = np.copy(self.evaluation_matrix)\n",
        "        for i in range(self.row_size):\n",
        "            for j in range(self.column_size):\n",
        "              if self.criteria[j]:\n",
        "                worst = min(self.evaluation_matrix[:, j])\n",
        "                best = max(self.evaluation_matrix[:, j])\n",
        "              else:\n",
        "                worst = max(self.evaluation_matrix[:, j])\n",
        "                best = min(self.evaluation_matrix[:, j])\n",
        "              #print(\"worst\", worst)\n",
        "              #print(\"best\", best)\n",
        "              self.normalized_decision[i,j] = (self.evaluation_matrix[i, j] - \\\n",
        "                                                   worst) / (best - worst)\n",
        "        print(\"\\nNormalized matrix:\\n\", self.normalized_decision)\n",
        "              \n",
        "    '''\n",
        "\t# Step 3\n",
        "\tCalculate the standard deviation and correlation matrix\n",
        "\t'''\n",
        "\n",
        "    def step_3(self):\n",
        "        self.stdev = np.empty(shape=(1, self.column_size))\n",
        "        for j in range(self.column_size):\n",
        "          self.stdev[0,j] = statistics.stdev(self.normalized_decision[:,j])\n",
        "        #self.correlation_matrix = np.empty(shape=(self.col_size, self.col_size))\n",
        "        self.correlation_matrix = np.corrcoef(self.normalized_decision.T)\n",
        "        print(\"\\nStandard deviation: \", self.stdev)\n",
        "        print(\"\\nCorrelation matrix:\\n\", self.correlation_matrix)\n",
        "    '''\n",
        "\t# Step 4\n",
        "\tCalculate measure of the conflict matrix\n",
        "\t'''\n",
        "\n",
        "    def step_4(self):\n",
        "        ones_matrix = np.ones((self.column_size, self.column_size))\n",
        "        self.conflict_matrix = np.subtract(ones_matrix, self.correlation_matrix)\n",
        "        print(\"\\nConflict matrix:\\n\", self.conflict_matrix)\n",
        "        cj = np.empty(shape=(1, self.column_size))\n",
        "        self.weights = np.empty(shape=(1, self.column_size))\n",
        "        for i in range(self.column_size):\n",
        "          cj[0, i] = self.stdev[0, i] * sum(self.conflict_matrix[i, :])\n",
        "        print(\"\\nCj: \", cj)\n",
        "        for i in range(self.column_size):\n",
        "          self.weights[0,i] = cj[0, i] / sum(cj[0, :])\n",
        "        print(\"\\nWeights:\\n\", self.weights)\n",
        "        \n",
        "    def calc(self):\n",
        "        print(\"Step 1\\nEvaluation matrix\\n\", self.evaluation_matrix, end=\"\\n\\n\")\n",
        "        self.step_2()\n",
        "        #print(\"Step 2\\nNormalized decision matrix\\n\", self.normalized_decision, end=\"\\n\\n\")\n",
        "        self.step_3()\n",
        "        #print(\"Step 3\\nPreference matrix\\n\", self.preference_matrix, end=\"\\n\\n\")\n",
        "        self.step_4()\n",
        "        #print(\"Step 4\\nOutranking flow\\n\", self.outranking_flow, end=\"\\n\\n\")"
      ],
      "execution_count": null,
      "outputs": []
    },
    {
      "cell_type": "markdown",
      "source": [
        "Below is the driver code for the CRITIC method, where the input is the TOPSIS file with the data. The format of the excel is the same as for the TOPSIS itself. "
      ],
      "metadata": {
        "id": "WEMTRtDovbrB"
      }
    },
    {
      "cell_type": "code",
      "metadata": {
        "colab": {
          "base_uri": "https://localhost:8080/"
        },
        "id": "b2aI502Uansp",
        "outputId": "825abd67-b07d-4601-de67-1f2c5e9a4d9f"
      },
      "source": [
        "import numpy as np\n",
        "import pandas as pd \n",
        "\n",
        "filename = \"TOPSIS with custom weights.xlsx\"\n",
        "sheetname = \"Beginning\"\n",
        "xl = pd.read_excel(filename, sheet_name=sheetname)\n",
        "xl = pd.read_excel(filename, sheet_name=sheetname, usecols=range(1, len(xl.columns)+1))\n",
        "\n",
        "# initializing input matrix, weights, criterias\n",
        "input_matrix = xl.tail(n=len(xl.index) - 2).values.tolist()\n",
        "criterias = xl.head(n=0).columns.values\n",
        "new_criterias = []\n",
        "for criteria in criterias:\n",
        "  # if the attribute is non beneficiary, meaning min value is better -> False, \n",
        "  # otherwise, the criteria is True\n",
        "  new_criterias.append(False if criteria[0] == 'N' else True)\n",
        "print('input matrix: ', input_matrix)\n",
        "print('criterias: ', new_criterias)\n",
        "# creating Topsis instance with the values above"
      ],
      "execution_count": null,
      "outputs": [
        {
          "output_type": "stream",
          "name": "stdout",
          "text": [
            "input matrix:  [[1, 20, 100, 94], [4, 40, 30, 30], [5, 85, 90, 75], [7, 32, 600, 98], [3, 28, 800, 46], [8, 49, 1200, 15], [12, 56, 150, 68], [2, 71, 300, 23], [10, 66, 300, 57], [6, 79, 800, 83], [9, 10, 700, 39], [15, 18, 1000, 10]]\n",
            "weights:  [0.6 0.2 0.1 0.1]\n",
            "criterias:  [False, False, False, True]\n"
          ]
        }
      ]
    },
    {
      "cell_type": "code",
      "metadata": {
        "colab": {
          "base_uri": "https://localhost:8080/"
        },
        "id": "rd_sGmp_a1Za",
        "outputId": "1e471533-ece2-4a74-cd88-49db585d4380"
      },
      "source": [
        "c = Critic(input_matrix, new_criterias)\n",
        "# calculating the ranking\n",
        "c.calc()\n"
      ],
      "execution_count": null,
      "outputs": [
        {
          "output_type": "stream",
          "name": "stdout",
          "text": [
            "Step 1\n",
            "Evaluation matrix\n",
            " [[1.0e+00 2.0e+01 1.0e+02 9.4e+01]\n",
            " [4.0e+00 4.0e+01 3.0e+01 3.0e+01]\n",
            " [5.0e+00 8.5e+01 9.0e+01 7.5e+01]\n",
            " [7.0e+00 3.2e+01 6.0e+02 9.8e+01]\n",
            " [3.0e+00 2.8e+01 8.0e+02 4.6e+01]\n",
            " [8.0e+00 4.9e+01 1.2e+03 1.5e+01]\n",
            " [1.2e+01 5.6e+01 1.5e+02 6.8e+01]\n",
            " [2.0e+00 7.1e+01 3.0e+02 2.3e+01]\n",
            " [1.0e+01 6.6e+01 3.0e+02 5.7e+01]\n",
            " [6.0e+00 7.9e+01 8.0e+02 8.3e+01]\n",
            " [9.0e+00 1.0e+01 7.0e+02 3.9e+01]\n",
            " [1.5e+01 1.8e+01 1.0e+03 1.0e+01]]\n",
            "\n",
            "normalized [[ 1.          0.86666667  0.94017094  0.95454545]\n",
            " [ 0.78571429  0.6         1.          0.22727273]\n",
            " [ 0.71428571 -0.          0.94871795  0.73863636]\n",
            " [ 0.57142857  0.70666667  0.51282051  1.        ]\n",
            " [ 0.85714286  0.76        0.34188034  0.40909091]\n",
            " [ 0.5         0.48       -0.          0.05681818]\n",
            " [ 0.21428571  0.38666667  0.8974359   0.65909091]\n",
            " [ 0.92857143  0.18666667  0.76923077  0.14772727]\n",
            " [ 0.35714286  0.25333333  0.76923077  0.53409091]\n",
            " [ 0.64285714  0.08        0.34188034  0.82954545]\n",
            " [ 0.42857143  1.          0.42735043  0.32954545]\n",
            " [-0.          0.89333333  0.17094017  0.        ]]\n",
            "standard dev [[0.29971126 0.33768473 0.33808025 0.34768856]]\n",
            "correlation matrix [[ 1.         -0.14771073  0.37748076  0.28017708]\n",
            " [-0.14771073  1.         -0.28386958 -0.17476347]\n",
            " [ 0.37748076 -0.28386958  1.          0.40691227]\n",
            " [ 0.28017708 -0.17476347  0.40691227  1.        ]]\n",
            "conflict matrix [[0.         1.14771073 0.62251924 0.71982292]\n",
            " [1.14771073 0.         1.28386958 1.17476347]\n",
            " [0.62251924 1.28386958 0.         0.59308773]\n",
            " [0.71982292 1.17476347 0.59308773 0.        ]]\n",
            "cj [[0.74629689 1.21780722 0.84502365 0.86493583]]\n",
            "weights [[0.20312574 0.33146057 0.22999701 0.23541667]]\n"
          ]
        }
      ]
    }
  ]
}