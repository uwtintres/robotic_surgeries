{
  "nbformat": 4,
  "nbformat_minor": 0,
  "metadata": {
    "colab": {
      "name": "Promethee II.ipynb",
      "provenance": [],
      "collapsed_sections": [],
      "authorship_tag": "ABX9TyP7coiFN5C/0jZY8IsZdnel",
      "include_colab_link": true
    },
    "kernelspec": {
      "name": "python3",
      "display_name": "Python 3"
    },
    "language_info": {
      "name": "python"
    }
  },
  "cells": [
    {
      "cell_type": "markdown",
      "metadata": {
        "id": "view-in-github",
        "colab_type": "text"
      },
      "source": [
        "<a href=\"https://colab.research.google.com/github/uwtintres/robotic_surgeries/blob/main/Promethee_II.ipynb\" target=\"_parent\"><img src=\"https://colab.research.google.com/assets/colab-badge.svg\" alt=\"Open In Colab\"/></a>"
      ]
    },
    {
      "cell_type": "markdown",
      "metadata": {
        "id": "x6nezQrSxRqV"
      },
      "source": [
        "This notebook is used for the PROMETHEE II algorithm with custom weights. The processing is done according to the next steps:\n",
        "\n",
        "1. Load .xlsx file with columns as attributes and rows as alternatives.\n",
        "2. Provide the array of weights as an input to the processing function. Also, the criteria types should be provided as the array, where the NB value should be used in the weights of attributes with cost criteria (minimum value of the attribute is preferred), while for the attribute with benefit criteria (max value is preferred) B value should be provided.\n",
        "3. Processing of the input file is done on this step according to the weights provided on step 2.\n",
        "4. Visualizing the results.\n",
        "\n",
        "The following code is used for the PROMETHEE experiment with custom weights. Each step of the experiment is printed for better understanding and the visualization chart for the rankings is provided afterwards."
      ]
    },
    {
      "cell_type": "code",
      "metadata": {
        "id": "Ix1N4f6j0Ele"
      },
      "source": [
        "import numpy as np\n",
        "import pandas as pd\n",
        "import warnings\n",
        "import matplotlib.pyplot as plt\n",
        "\n",
        "class Promethee():\n",
        "    evaluation_matrix = np.array([])  # Matrix\n",
        "    normalized_decision = np.array([])  # Normalisation matrix\n",
        "    preference_matrix = np.array([])\n",
        "    M = 0  # Number of rows\n",
        "    N = 0  # Number of columns\n",
        "\n",
        "    '''\n",
        "\tCreate an evaluation matrix consisting of m alternatives and n criteria.\n",
        "\t  '''\n",
        "\n",
        "    def __init__(self, evaluation_matrix, weight_matrix, criteria):\n",
        "        # M×N matrix\n",
        "        self.evaluation_matrix = np.array(evaluation_matrix, dtype=\"float\")\n",
        "\n",
        "        # M alternatives (options)\n",
        "        self.row_size = len(self.evaluation_matrix)\n",
        "\n",
        "        # N attributes/criteria\n",
        "        self.column_size = len(self.evaluation_matrix[0])\n",
        "\n",
        "        # N size weight matrix\n",
        "        self.weight_matrix = np.array(weight_matrix, dtype=\"float\")\n",
        "        self.weight_matrix = self.weight_matrix/sum(self.weight_matrix)\n",
        "        self.criteria = np.array(criteria, dtype=\"float\")\n",
        "\n",
        "    '''\n",
        "\t# Step 2\n",
        "\tThe matrix  is then normalised.\n",
        "\t'''\n",
        "\n",
        "    def step_2(self):\n",
        "        # normalized scores\n",
        "        self.normalized_decision = np.copy(self.evaluation_matrix)\n",
        "        for i in range(self.row_size):\n",
        "            for j in range(self.column_size):\n",
        "              minval = min(self.evaluation_matrix[:, j])\n",
        "              maxval = max(self.evaluation_matrix[:, j])\n",
        "              if self.criteria[j]:\n",
        "                self.normalized_decision[i,j] = (self.evaluation_matrix[i, j] - \\\n",
        "                                                   minval) / (maxval - minval)\n",
        "              else:\n",
        "                self.normalized_decision[i,j] = (maxval - self.evaluation_matrix[i, j]) /\\\n",
        "                                                  (maxval - minval)\n",
        "    '''\n",
        "\t# Step 3\n",
        "\tCalculate the preference matrix \n",
        "\t'''\n",
        "\n",
        "    def step_3(self):\n",
        "        # for each alternative in the input matrix\n",
        "        for i in range(self.row_size):\n",
        "          preference_array = []\n",
        "          # comparing it to each other alternative in the matrix\n",
        "          for row in range(self.row_size):\n",
        "            difference = []\n",
        "            for col in range(self.column_size):\n",
        "              diff = self.normalized_decision[i, col] - self.normalized_decision[row,col]\n",
        "              val = diff if diff >= 0 else 0\n",
        "              difference.append(val * self.weight_matrix[col]) # multiplying the difference by the weight of current attribute\n",
        "            # after checking with one of the alternatives, append the sum of differences to preference function\n",
        "            preference_array.append(sum(difference)/sum(self.weight_matrix))\n",
        "          #print(\"preference array\", preference_array)\n",
        "          # collecting all preference functions to a preference matrix for further calculations\n",
        "          if len(self.preference_matrix) == 0:\n",
        "            self.preference_matrix = [preference_array]\n",
        "          else:\n",
        "            self.preference_matrix = np.vstack((self.preference_matrix, preference_array))\n",
        "        #print(\"preference matrix\", self.preference_matrix)\n",
        "    '''\n",
        "\t# Step 4\n",
        "\tDetermine the leaving and entering outranking flows\n",
        "\t'''\n",
        "\n",
        "    def step_4(self):\n",
        "        self.positive_flow = np.zeros(self.row_size)\n",
        "        self.negative_flow = np.zeros(self.row_size)\n",
        "        self.outranking_flow = np.zeros(self.row_size)\n",
        "\n",
        "        for i in range(self.row_size):\n",
        "          self.positive_flow[i] = sum(self.preference_matrix[i,:]) / (self.row_size - 1)\n",
        "\n",
        "        for j in range(self.column_size):\n",
        "          self.negative_flow[j] = sum(self.preference_matrix[:,j]) / (self.row_size - 1)\n",
        "        \n",
        "        for i in range(self.row_size):\n",
        "          self.outranking_flow[i] = self.positive_flow[i] - self.negative_flow[i]                                        \n",
        " \n",
        "    def ranking(self, data):\n",
        "        return [i+1 for i in np.argsort(-1*data)]\n",
        "\n",
        "    def rank_to_preformance_score(self):\n",
        "        return self.ranking(self.outranking_flow)\n",
        "\n",
        "    def visualization(self, ranking):\n",
        "        #ax = fig.add_axes([0,0,1,1])\n",
        "        axes = []\n",
        "        for i, rank in enumerate(ranking):\n",
        "          axes.append(((rank), (i + 1)))\n",
        "        axes.sort(key=lambda x: x[0])\n",
        "        x_axis,y_axis = ['A' + str(val[0]) for val in axes],[val[1] for val in axes]\n",
        "        plt.figure(figsize=(12, 6))\n",
        "        ax = pd.Series(y_axis).plot(kind='bar')\n",
        "        ax.set_xticklabels(x_axis)\n",
        "\n",
        "        rects = ax.patches\n",
        "        for rect, label in zip(rects, y_axis):\n",
        "            height = rect.get_height()\n",
        "            ax.text(rect.get_x() + rect.get_width()/2, height, label, ha='center', va='bottom')\n",
        "        ax.bar(x_axis,y_axis)\n",
        "\n",
        "    def calc(self):\n",
        "        print(\"Step 1\\n\", self.evaluation_matrix, end=\"\\n\\n\")\n",
        "        self.step_2()\n",
        "        print(\"Step 2\\n\", self.normalized_decision, end=\"\\n\\n\")\n",
        "        self.step_3()\n",
        "        print(\"Step 3\\n\", self.preference_matrix, end=\"\\n\\n\")\n",
        "        self.step_4()\n",
        "        print(\"Step 4\\n\", self.outranking_flow, end=\"\\n\\n\")\n",
        "       "
      ],
      "execution_count": 48,
      "outputs": []
    },
    {
      "cell_type": "markdown",
      "metadata": {
        "id": "ps6piUn2xruE"
      },
      "source": [
        "The driver code for testing is presented below. The execution plan is as follows:\n",
        "\n",
        "1. Read the excel file, where the file name and sheet_name should be provided to specify which case user wants to test.\n",
        "2. Read the excel file to store the weights and criteria values.\n",
        "3. Create Promethee instance with the read values\n",
        "4. Calculate the rankings"
      ]
    },
    {
      "cell_type": "code",
      "metadata": {
        "colab": {
          "base_uri": "https://localhost:8080/"
        },
        "id": "1q0uSZdgo_aC",
        "outputId": "197c9559-c2b0-4b6f-d879-a9ffb8930c72"
      },
      "source": [
        "import numpy as np\n",
        "import pandas as pd \n",
        "\n",
        "xl = pd.read_excel(\"TOPSIS with custom weights.xlsx\", sheet_name=\"Beginning\")\n",
        "xl = pd.read_excel(\"TOPSIS with custom weights.xlsx\", sheet_name=\"Beginning\", \n",
        "                   usecols=range(1, len(xl.columns)+1))\n",
        "\n",
        "# initializing input matrix, weights, criterias\n",
        "input_matrix = xl.tail(n=len(xl.index) - 2).values.tolist()\n",
        "weights = xl.loc[0].values\n",
        "criterias = xl.head(n=0).columns.values\n",
        "new_criterias = []\n",
        "for criteria in criterias:\n",
        "  # if the attribute is non beneficiary, meaning min value is better -> False, \n",
        "  # otherwise, the criteria is True\n",
        "  new_criterias.append(False if criteria[0] == 'N' else True)\n",
        "print('input matrix: ', input_matrix)\n",
        "print('weights: ', weights)\n",
        "print('criterias: ', new_criterias)\n",
        "# creating Topsis instance with the values above"
      ],
      "execution_count": 49,
      "outputs": [
        {
          "output_type": "stream",
          "name": "stdout",
          "text": [
            "input matrix:  [[21, 300, 90, 60], [45, 800, 74, 30], [64, 700, 12, 90], [86, 1000, 36, 10], [75, 100, 24, 5], [34, 1200, 47, 23], [56, 400, 55, 67], [90, 350, 67, 84], [60, 580, 74, 75], [70, 460, 86, 98], [80, 220, 98, 46], [10, 900, 40, 15]]\n",
            "weights:  [0.6 0.1 0.1 0.2]\n",
            "criterias:  [False, False, False, False]\n"
          ]
        }
      ]
    },
    {
      "cell_type": "code",
      "metadata": {
        "colab": {
          "base_uri": "https://localhost:8080/",
          "height": 1000
        },
        "id": "0onm4YI3thKg",
        "outputId": "0d6dfd58-86ba-4802-9325-7ac7938c2543"
      },
      "source": [
        "t = Promethee(input_matrix, weights, new_criterias)\n",
        "\n",
        "# calculating the ranking\n",
        "t.calc()\n",
        "\n",
        "ranks = t.rank_to_preformance_score()\n",
        "\n",
        "print(\"Visualization graph:\")\n",
        "t.visualization(ranks)  "
      ],
      "execution_count": 50,
      "outputs": [
        {
          "output_type": "stream",
          "name": "stdout",
          "text": [
            "Step 1\n",
            " [[  21.  300.   90.   60.]\n",
            " [  45.  800.   74.   30.]\n",
            " [  64.  700.   12.   90.]\n",
            " [  86. 1000.   36.   10.]\n",
            " [  75.  100.   24.    5.]\n",
            " [  34. 1200.   47.   23.]\n",
            " [  56.  400.   55.   67.]\n",
            " [  90.  350.   67.   84.]\n",
            " [  60.  580.   74.   75.]\n",
            " [  70.  460.   86.   98.]\n",
            " [  80.  220.   98.   46.]\n",
            " [  10.  900.   40.   15.]]\n",
            "\n",
            "Step 2\n",
            " [[0.8625     0.81818182 0.09302326 0.40860215]\n",
            " [0.5625     0.36363636 0.27906977 0.7311828 ]\n",
            " [0.325      0.45454545 1.         0.08602151]\n",
            " [0.05       0.18181818 0.72093023 0.94623656]\n",
            " [0.1875     1.         0.86046512 1.        ]\n",
            " [0.7        0.         0.59302326 0.80645161]\n",
            " [0.425      0.72727273 0.5        0.33333333]\n",
            " [0.         0.77272727 0.36046512 0.15053763]\n",
            " [0.375      0.56363636 0.27906977 0.24731183]\n",
            " [0.25       0.67272727 0.13953488 0.        ]\n",
            " [0.125      0.89090909 0.         0.55913978]\n",
            " [1.         0.27272727 0.6744186  0.89247312]]\n",
            "\n",
            "Step 3\n",
            " [[0.         0.22545455 0.42337977 0.55113636 0.405      0.17931818\n",
            "  0.28664467 0.57365836 0.35021261 0.46376588 0.45180233 0.05454545]\n",
            " [0.08312078 0.         0.27153226 0.32568182 0.225      0.03636364\n",
            "  0.16206989 0.45362903 0.20927419 0.34769005 0.32481558 0.00909091]\n",
            " [0.09069767 0.08118393 0.         0.2201797  0.09645349 0.08615222\n",
            "  0.05       0.25895349 0.07209302 0.14825081 0.22       0.05073996]\n",
            " [0.17031758 0.0871968  0.17204301 0.         0.         0.05892951\n",
            "  0.14467367 0.2251863  0.18397099 0.24738685 0.14951238 0.01540385]\n",
            " [0.21320557 0.17553934 0.23734115 0.18902436 0.         0.16545386\n",
            "  0.19665257 0.35511975 0.25231353 0.3048203  0.22262765 0.1128373 ]\n",
            " [0.12956989 0.12894911 0.36908602 0.39       0.3075     0.\n",
            "  0.26892598 0.57443861 0.33822331 0.47663916 0.45376469 0.        ]\n",
            " [0.04069767 0.05845666 0.13673509 0.27954545 0.1425     0.07272727\n",
            "  0.         0.30551263 0.08566096 0.21316772 0.23       0.04545455]\n",
            " [0.02674419 0.04904863 0.04472141 0.05909091 0.         0.07727273\n",
            "  0.00454545 0.         0.02904863 0.06220055 0.03604651 0.05      ]\n",
            " [0.01860465 0.02       0.07316716 0.23318182 0.1125     0.05636364\n",
            "  0.         0.24435484 0.         0.13841585 0.17790698 0.02909091]\n",
            " [0.00465116 0.03090909 0.02181818 0.16909091 0.0375     0.06727273\n",
            "  0.         0.15       0.01090909 0.         0.08895349 0.04      ]\n",
            " [0.03738025 0.05272727 0.13826002 0.11590909 0.         0.08909091\n",
            "  0.06152493 0.16853861 0.09509286 0.13364614 0.         0.06181818]\n",
            " [0.23741373 0.33429295 0.56629032 0.57909091 0.4875     0.23261656\n",
            "  0.47426982 0.77978245 0.54356714 0.681983   0.65910853 0.        ]]\n",
            "\n",
            "Step 4\n",
            " [ 0.26477409  0.10950089 -0.09815183 -0.15066458  0.22044867  0.31246334\n",
            "  0.14640527  0.03988355  0.10032599  0.05646406  0.08672621  0.5069014 ]\n",
            "\n",
            "Visualization graph:\n"
          ]
        },
        {
          "output_type": "display_data",
          "data": {
            "image/png": "[encoded data removed]",
            "text/plain": [
              "<Figure size 864x432 with 1 Axes>"
            ]
          },
          "metadata": {
            "needs_background": "light"
          }
        }
      ]
    }
  ]
}