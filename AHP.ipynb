{
  "nbformat": 4,
  "nbformat_minor": 0,
  "metadata": {
    "colab": {
      "name": "AHP.ipynb",
      "provenance": [],
      "collapsed_sections": [],
      "authorship_tag": "ABX9TyODXE+cCGMqW2CPRjCtudN1",
      "include_colab_link": true
    },
    "kernelspec": {
      "name": "python3",
      "display_name": "Python 3"
    },
    "language_info": {
      "name": "python"
    }
  },
  "cells": [
    {
      "cell_type": "markdown",
      "metadata": {
        "id": "view-in-github",
        "colab_type": "text"
      },
      "source": [
        "<a href=\"https://colab.research.google.com/github/uwtintres/robotic_surgeries/blob/main/AHP.ipynb\" target=\"_parent\"><img src=\"https://colab.research.google.com/assets/colab-badge.svg\" alt=\"Open In Colab\"/></a>"
      ]
    },
    {
      "cell_type": "markdown",
      "metadata": {
        "id": "fo5z7x6XnlF6"
      },
      "source": [
        "Project is the work of Alina Saduova, CSS graduate student at UWT, Spring'21. This notebook is used for the TOPSIS algorithm with combintaion of AHP algorithm to calculate weights. The processing is done according to the next steps:\n",
        "\n",
        "1. Load .xlsx file where the importance of the attributes to each other is provided according to the following scale:\n",
        "\n",
        "\n",
        "> **Importance**: \n",
        "*  1 - equal importance\n",
        "*  3 - moderate importance\n",
        "*  5 - strong importance\n",
        "*  7 - very strong importance\n",
        "*  9 - extremely strong importance\n",
        "\n",
        "To elaborate, if we compare the drinks consumption among people, the table would look like:\n",
        "\n",
        "![CF09282C-6EC8-4874-97A4-5A18ED2CC04C_4_5005_c.jpeg](data:image/jpeg;base64,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)\n",
        "\n",
        "As you can observe, the relation of the same attribute to itself will have rank 1 (equal importance). Also, as coffee consumption is much more than that of iced tea, the rank is 9, meaning coffee has extremely strong importance compared to iced tea. The other drinks were ranked accordingly. \n",
        "\n",
        "The input .xlsx file should have similar table with rankings provided.\n",
        "2. Load the main .xlsx file that was used for TOPSIS with custom weights.\n",
        "3. Processing of the first input file to calculate the weight of each attribute.\n",
        "4. Check if the table is consistent. At this step, the consistency of the table is checked, where the calculated value should be less than 0.1. If it is greater, the algorithm should start from step 1 again, where user needs to rank the importance in a different way and reload the file. \n",
        "5. The consistency check is passed, save the calculated weights.\n",
        "6. Provide the calculated weights and the main table to the TOPSIS algorithm to rank the alternatives.\n",
        "\n",
        "**Visualizing the results.**\n",
        "The calculated weights values are printed for visualization purposes along with the consistency value, if the value is > 0.1, the user is notified that ranking should be rearranged. \n"
      ]
    },
    {
      "cell_type": "code",
      "metadata": {
        "id": "zYsFZk9pxovp"
      },
      "source": [
        "import numpy as np\n",
        "class AHP():\n",
        "\n",
        "  def calcSum(self, ranks):\n",
        "    # sums of the ranks along the column\n",
        "    sums = [0] * len(ranks)\n",
        "    curSum = 0\n",
        "    for col in range(len(ranks)):\n",
        "      for row in range(len(ranks)):\n",
        "        curSum += ranks[row][col]\n",
        "      sums[col] = curSum\n",
        "      curSum = 0\n",
        "    return sums\n",
        "\n",
        "  def calcWeights(self, ranks, sums):\n",
        "    newMatrix = np.copy(ranks)\n",
        "    criteria_weights = [0] * len(ranks)\n",
        "    weightedMatrix = np.copy(ranks)\n",
        "    lambdas = [0] * len(ranks)\n",
        "    # random index is hard coded value to calculate the consistency ration later\n",
        "    random_index = [0, 0, 0.58, 0.9, 1.12, 1.24, 1.32, 1.41, 1.45, 1.49]\n",
        "\n",
        "    for col in range(len(ranks)):\n",
        "      for row in range(len(ranks)):\n",
        "        newMatrix[row][col] /= sums[col]\n",
        "    print('Step 1:\\n', newMatrix)\n",
        "\n",
        "    # The weights are calculated at step two, but the matrix should be checked \n",
        "    # before passing the weights\n",
        "    for row in range(len(ranks)):\n",
        "      criteria_weights[row] = sum(newMatrix[row][:]) / len(ranks)\n",
        "    print('\\nStep 2. Criteria weights:\\n', criteria_weights)\n",
        "\n",
        "    for col in range(len(ranks)):\n",
        "      for row in range(len(ranks)):\n",
        "        weightedMatrix[row][col] = ranks[row][col] * criteria_weights[col]\n",
        "    print('\\nStep 3. Weighted matrix:\\n', weightedMatrix)\n",
        "    \n",
        "    for row in range(len(ranks)):\n",
        "      lambdas[row] = sum(weightedMatrix[row][:]) / criteria_weights[row]\n",
        "    print('\\nLambda values:\\n', lambdas)\n",
        "\n",
        "    # Calculating the consistency index and ration according to the lambda values\n",
        "    lambdamax = sum(lambdas) / len(lambdas)\n",
        "    consistency_index = (lambdamax - len(lambdas)) / (len(lambdas) - 1)\n",
        "    consistency_ratio = consistency_index / random_index[len(lambdas)-1]\n",
        "    print('\\nConsistency ratio: ', consistency_ratio)\n",
        "\n",
        "    # Checking the consistency of the matrix\n",
        "    if consistency_ratio < 0.1:\n",
        "      print('\\n##########  Matrix is consistent. ##########') \n",
        "      return criteria_weights\n",
        "    elif consistency_ratio >= 0.1:\n",
        "      print('\\n ##########Matrix is inconsistent, redo the ranking ##########')\n",
        "      return \n",
        "    else:\n",
        "      val = 1/len(ranks)\n",
        "      return [val] * len(ranks)\n",
        "\n",
        "  def calcAHP(self, ranks):\n",
        "    sums = self.calcSum(ranks)\n",
        "    return self.calcWeights(ranks, sums)\n"
      ],
      "execution_count": 1,
      "outputs": []
    },
    {
      "cell_type": "markdown",
      "metadata": {
        "id": "ZIwFE-wFqiIr"
      },
      "source": [
        "Driver code is provied below, where two files are used, one for calculating the weights and the second is the main file for the ranking calculation from the attributes and alternatives provided. \n",
        "\n",
        "The weights are then calculated by the above AHP algorithm and used for the TOPSIS algorithm. The output of this part of the code is the step by step illustration of the AHP weights calculation with the summary of the weights, input matrix and criterias at the end."
      ]
    },
    {
      "cell_type": "code",
      "metadata": {
        "id": "_ujd-sdEnucs",
        "colab": {
          "base_uri": "https://localhost:8080/"
        },
        "outputId": "bcb168a7-c4e4-463c-dfd6-6de9ae94d2da"
      },
      "source": [
        "import numpy as np\n",
        "import pandas as pd \n",
        "import TOPSIS as tp\n",
        "\n",
        "ahp_filename = \"AHP Importance.xlsx\"\n",
        "ahp_sheetname = \"Beginning_bl\"\n",
        "topsis_filename = \"TOPSIS with custom weights.xlsx\"\n",
        "topsis_sheetname = \"Beginning\"\n",
        "\n",
        "xl = pd.read_excel(ahp_filename, sheet_name=ahp_sheetname)\n",
        "xl = pd.read_excel(ahp_filename, sheet_name=ahp_sheetname, usecols=range(1, len(xl.columns)+1))\n",
        "\n",
        "\n",
        "xl2 = pd.read_excel(topsis_filename, sheet_name=topsis_sheetname)\n",
        "xl2 = pd.read_excel(topsis_filename, sheet_name=topsis_sheetname, usecols=range(1, len(xl2.columns)+1))\n",
        "\n",
        "# initializing input matrix, weights, criterias\n",
        "topsis_input_matrix = xl2.tail(n=len(xl2.index) - 2).values.tolist()\n",
        "criterias = xl2.head(n=0).columns.values\n",
        "ahp_input_matrix = xl.values.tolist()\n",
        "a = AHP()\n",
        "weights = a.calcAHP(ahp_input_matrix)\n",
        "\n",
        "new_criterias = []\n",
        "for criteria in criterias:\n",
        "  # if the attribute is non beneficiary, meaning min value is better -> False, \n",
        "  # otherwise, the criteria is True\n",
        "  new_criterias.append(False if criteria[0] == 'N' else True)\n",
        "\n",
        "print('\\nTOPSIS input matrix: ', topsis_input_matrix)\n",
        "print('\\nweights: ', weights)\n",
        "print('\\ncriterias: ', new_criterias)\n"
      ],
      "execution_count": 3,
      "outputs": [
        {
          "output_type": "stream",
          "name": "stdout",
          "text": [
            "AHP steps:\n",
            "\n",
            "\n",
            "TOPSIS input matrix:  [[21, 300, 90, 60], [45, 800, 74, 30], [64, 700, 12, 90], [86, 1000, 36, 10], [75, 100, 24, 5], [34, 1200, 47, 23], [56, 400, 55, 67], [90, 350, 67, 84], [60, 580, 74, 75], [70, 460, 86, 98], [80, 220, 98, 46], [10, 900, 40, 15]]\n",
            "\n",
            "weights:  [0.08333333333333331, 0.75, 0.08333333333333331, 0.08333333333333331]\n",
            "\n",
            "criterias:  [False, False, False, False]\n"
          ]
        }
      ]
    },
    {
      "cell_type": "markdown",
      "metadata": {
        "id": "OgYwvl-jsIQF"
      },
      "source": [
        "Afterwards, the TOPSIS algorithm is called to calculate the rankings, where step by step execution is provided at the output. It could also be observed from the visualization graph below that the results coincide with the weights of each alternative. Meaning the attribute that bares the bigger weight and the alternatives who's values for this attribute fit better are ranked higher. "
      ]
    },
    {
      "cell_type": "code",
      "metadata": {
        "colab": {
          "base_uri": "https://localhost:8080/",
          "height": 1000
        },
        "id": "NyvxXITYpUJ7",
        "outputId": "a398d571-3a1c-4a4d-8a49-09ffc3883772"
      },
      "source": [
        "print('TOPSIS steps:\\n')\n",
        "t = tp.Topsis(topsis_input_matrix, weights, new_criterias)\n",
        "\n",
        "# calculating the ranking\n",
        "t.calc()\n",
        "\n",
        "ranks = t.rank_to_preformance_score()\n",
        "print('\\nRanks\\n', ranks)\n",
        "print(\"\\nVisualization graph:\")\n",
        "t.visualization(ranks) \n",
        " "
      ],
      "execution_count": 5,
      "outputs": [
        {
          "output_type": "stream",
          "name": "stdout",
          "text": [
            "TOPSIS steps:\n",
            "Step 1\n",
            " [[  21.  300.   90.   60.]\n",
            " [  45.  800.   74.   30.]\n",
            " [  64.  700.   12.   90.]\n",
            " [  86. 1000.   36.   10.]\n",
            " [  75.  100.   24.    5.]\n",
            " [  34. 1200.   47.   23.]\n",
            " [  56.  400.   55.   67.]\n",
            " [  90.  350.   67.   84.]\n",
            " [  60.  580.   74.   75.]\n",
            " [  70.  460.   86.   98.]\n",
            " [  80.  220.   98.   46.]\n",
            " [  10.  900.   40.   15.]]\n",
            "\n",
            "Step 2\n",
            " [[0.09689155 0.12959356 0.40496603 0.29149234]\n",
            " [0.20762475 0.34558283 0.33297207 0.14574617]\n",
            " [0.29528853 0.30238498 0.05399547 0.43723851]\n",
            " [0.39679396 0.43197854 0.16198641 0.04858206]\n",
            " [0.34604125 0.04319785 0.10799094 0.02429103]\n",
            " [0.15687203 0.51837425 0.21148226 0.11173873]\n",
            " [0.25837746 0.17279142 0.24747924 0.32549978]\n",
            " [0.4152495  0.15119249 0.30147471 0.40808927]\n",
            " [0.276833   0.25054755 0.33297207 0.36436542]\n",
            " [0.32297183 0.19871013 0.38696754 0.47610415]\n",
            " [0.36911066 0.09503528 0.44096302 0.22347746]\n",
            " [0.04613883 0.38878069 0.1799849  0.07287308]]\n",
            "\n",
            "Step 3\n",
            " [[0.0080743  0.09719517 0.03374717 0.02429103]\n",
            " [0.01730206 0.25918712 0.02774767 0.01214551]\n",
            " [0.02460738 0.22678873 0.00449962 0.03643654]\n",
            " [0.03306616 0.32398391 0.01349887 0.0040485 ]\n",
            " [0.02883677 0.03239839 0.00899925 0.00202425]\n",
            " [0.01307267 0.38878069 0.01762352 0.00931156]\n",
            " [0.02153146 0.12959356 0.02062327 0.02712498]\n",
            " [0.03460412 0.11339437 0.02512289 0.03400744]\n",
            " [0.02306942 0.18791067 0.02774767 0.03036379]\n",
            " [0.02691432 0.1490326  0.0322473  0.03967535]\n",
            " [0.03075922 0.07127646 0.03674692 0.01862312]\n",
            " [0.0038449  0.29158552 0.01499874 0.00607276]]\n",
            "\n",
            "Step 4\n",
            " [0.03460412 0.38878069 0.03674692 0.03967535] [0.0038449  0.03239839 0.00449962 0.00202425]\n",
            "\n",
            "Step 5\n",
            " [0.29320917 0.13391315 0.1655044  0.07752891 0.35948455 0.04184815\n",
            " 0.2603197  0.2756898  0.20161723 0.23991358 0.31822463 0.10952236] [0.07461728 0.2285982  0.19850162 0.2931912  0.0253937  0.35681765\n",
            " 0.10319755 0.09462939 0.16092623 0.12776257 0.05959275 0.25943128]\n",
            "\n",
            "Step 6\n",
            " [0.79713998 0.36940401 0.4546749  0.20913058 0.93402147 0.10497049\n",
            " 0.71611375 0.74446534 0.55611879 0.65251331 0.84227103 0.29684587]\n",
            "\n",
            "\n",
            "ranks\n",
            " [5, 11, 1, 8, 7, 10, 9, 3, 2, 12, 4, 6]\n",
            "Visualization graph:\n"
          ]
        },
        {
          "output_type": "display_data",
          "data": {
            "image/png": "[encoded data removed]",
            "text/plain": [
              "<Figure size 864x432 with 1 Axes>"
            ]
          },
          "metadata": {
            "needs_background": "light"
          }
        }
      ]
    }
  ]
}