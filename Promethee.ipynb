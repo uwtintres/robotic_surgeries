{
  "nbformat": 4,
  "nbformat_minor": 0,
  "metadata": {
    "colab": {
      "name": "Promethee.ipynb",
      "provenance": [],
      "collapsed_sections": [],
      "authorship_tag": "ABX9TyM0UZ1EnOZdLdJczkQOycoE",
      "include_colab_link": true
    },
    "kernelspec": {
      "name": "python3",
      "display_name": "Python 3"
    },
    "language_info": {
      "name": "python"
    }
  },
  "cells": [
    {
      "cell_type": "markdown",
      "metadata": {
        "id": "view-in-github",
        "colab_type": "text"
      },
      "source": [
        "<a href=\"https://colab.research.google.com/github/uwtintres/robotic_surgeries/blob/main/Promethee.ipynb\" target=\"_parent\"><img src=\"https://colab.research.google.com/assets/colab-badge.svg\" alt=\"Open In Colab\"/></a>"
      ]
    },
    {
      "cell_type": "markdown",
      "metadata": {
        "id": "x6nezQrSxRqV"
      },
      "source": [
        "This notebook is used for the PROMETHEE II algorithm with custom weights. The processing is done according to the next steps:\n",
        "\n",
        "1. Load .xlsx file with columns as attributes and rows as alternatives. To be precise, the first row should represent the criterias (B for beneficial and NB for non beneficial), second row should represent the according weights, then the input data can be provided with the column names for the attributes and row labels for the alternatives.\n",
        "2. Processing of the input file is done on this step according to the weights provided.\n",
        "3. Visualizing the results.\n",
        "\n",
        "The following code is used for the PROMETHEE experiment with custom weights. Each step of the experiment is printed for better understanding and the visualization chart for the rankings is provided afterwards."
      ]
    },
    {
      "cell_type": "code",
      "metadata": {
        "id": "Ix1N4f6j0Ele"
      },
      "source": [
        "import numpy as np\n",
        "import pandas as pd\n",
        "import warnings\n",
        "import matplotlib.pyplot as plt\n",
        "\n",
        "class Promethee():\n",
        "    evaluation_matrix = np.array([])  # Matrix\n",
        "    normalized_decision = np.array([])  # Normalisation matrix\n",
        "    preference_matrix = np.array([])\n",
        "    M = 0  # Number of rows\n",
        "    N = 0  # Number of columns\n",
        "\n",
        "  \n",
        "\t  # Create an evaluation matrix consisting of m alternatives and n criteria.\n",
        "\n",
        "\n",
        "    def __init__(self, evaluation_matrix, weight_matrix, criteria):\n",
        "        # M×N matrix\n",
        "        self.evaluation_matrix = np.array(evaluation_matrix, dtype=\"float\")\n",
        "\n",
        "        # M alternatives (options)\n",
        "        self.row_size = len(self.evaluation_matrix)\n",
        "\n",
        "        # N attributes/criteria\n",
        "        self.column_size = len(self.evaluation_matrix[0])\n",
        "\n",
        "        # N size weight matrix\n",
        "        self.weight_matrix = np.array(weight_matrix, dtype=\"float\")\n",
        "        self.weight_matrix = self.weight_matrix/sum(self.weight_matrix)\n",
        "        self.criteria = np.array(criteria, dtype=\"float\")\n",
        "\n",
        "    \n",
        "    # Step 2\n",
        "    #The matrix  is then normalised.\n",
        "    \n",
        "\n",
        "    def step_2(self):\n",
        "        # normalized scores\n",
        "        self.normalized_decision = np.copy(self.evaluation_matrix)\n",
        "        for i in range(self.row_size):\n",
        "            for j in range(self.column_size):\n",
        "              minval = min(self.evaluation_matrix[:, j])\n",
        "              maxval = max(self.evaluation_matrix[:, j])\n",
        "              if self.criteria[j]:\n",
        "                self.normalized_decision[i,j] = (self.evaluation_matrix[i, j] - \\\n",
        "                                                   minval) / (maxval - minval)\n",
        "              else:\n",
        "                self.normalized_decision[i,j] = (maxval - self.evaluation_matrix[i, j]) /\\\n",
        "                                                  (maxval - minval)\n",
        "    \n",
        "\t  # Step 3\n",
        "\t  #Calculate the preference matrix \n",
        "\t\n",
        "\n",
        "    def step_3(self):\n",
        "        # for each alternative in the input matrix\n",
        "        for i in range(self.row_size):\n",
        "          preference_array = []\n",
        "          # comparing it to each other alternative in the matrix\n",
        "          for row in range(self.row_size):\n",
        "            difference = []\n",
        "            for col in range(self.column_size):\n",
        "              diff = self.normalized_decision[i, col] - self.normalized_decision[row,col]\n",
        "              val = diff if diff >= 0 else 0\n",
        "              difference.append(val * self.weight_matrix[col]) # multiplying the difference by the weight of current attribute\n",
        "            # after checking with one of the alternatives, append the sum of differences to preference function\n",
        "            preference_array.append(sum(difference)/sum(self.weight_matrix))\n",
        "          #print(\"preference array\", preference_array)\n",
        "          # collecting all preference functions to a preference matrix for further calculations\n",
        "          if len(self.preference_matrix) == 0:\n",
        "            self.preference_matrix = [preference_array]\n",
        "          else:\n",
        "            self.preference_matrix = np.vstack((self.preference_matrix, preference_array))\n",
        "        #print(\"preference matrix\", self.preference_matrix)\n",
        "    \n",
        "\t  # Step 4\n",
        "\t  # Determine the leaving and entering outranking flows\n",
        "\t\n",
        "\n",
        "    def step_4(self):\n",
        "        self.positive_flow = np.zeros(self.row_size)\n",
        "        self.negative_flow = np.zeros(self.row_size)\n",
        "        self.outranking_flow = np.zeros(self.row_size)\n",
        "\n",
        "        for i in range(self.row_size):\n",
        "          self.positive_flow[i] = sum(self.preference_matrix[i,:]) / (self.row_size - 1)\n",
        "\n",
        "        for j in range(self.column_size):\n",
        "          self.negative_flow[j] = sum(self.preference_matrix[:,j]) / (self.row_size - 1)\n",
        "        \n",
        "        for i in range(self.row_size):\n",
        "          self.outranking_flow[i] = self.positive_flow[i] - self.negative_flow[i]                                        \n",
        " \n",
        "    def ranking(self, data):\n",
        "        return [i+1 for i in np.argsort(-1*data)]\n",
        "\n",
        "    def rank_to_preformance_score(self):\n",
        "        return self.ranking(self.outranking_flow)\n",
        "\n",
        "    def get_perf_score(self):\n",
        "        return self.outranking_flow\n",
        "\n",
        "    def visualization(self, ranking):\n",
        "        #ax = fig.add_axes([0,0,1,1])\n",
        "        axes = []\n",
        "        for i, rank in enumerate(ranking):\n",
        "          axes.append(((rank), (i + 1)))\n",
        "        axes.sort(key=lambda x: x[0])\n",
        "        x_axis,y_axis = ['A' + str(val[0]) for val in axes],[val[1] for val in axes]\n",
        "        plt.figure(figsize=(12, 6))\n",
        "        ax = pd.Series(y_axis).plot(kind='bar')\n",
        "        ax.set_xticklabels(x_axis)\n",
        "\n",
        "        rects = ax.patches\n",
        "        for rect, label in zip(rects, y_axis):\n",
        "            height = rect.get_height()\n",
        "            ax.text(rect.get_x() + rect.get_width()/2, height, label, ha='center', va='bottom')\n",
        "        ax.bar(x_axis,y_axis)\n",
        "\n",
        "    def calc(self):\n",
        "        #print(\"Step 1\\nEvaluation matrix\\n\", self.evaluation_matrix, end=\"\\n\\n\")\n",
        "        self.step_2()\n",
        "        #print(\"Step 2\\nNormalized decision matrix\\n\", self.normalized_decision, end=\"\\n\\n\")\n",
        "        self.step_3()\n",
        "        #print(\"Step 3\\nPreference matrix\\n\", self.preference_matrix, end=\"\\n\\n\")\n",
        "        self.step_4()\n",
        "        #print(\"Step 4\\nOutranking flow\\n\", self.outranking_flow, end=\"\\n\\n\")\n",
        "       "
      ],
      "execution_count": null,
      "outputs": []
    },
    {
      "cell_type": "markdown",
      "metadata": {
        "id": "ps6piUn2xruE"
      },
      "source": [
        "The driver code for testing is presented below. The execution plan is as follows:\n",
        "\n",
        "1. Read the excel file, where the file name and sheet_name should be provided to specify which case user wants to test.\n",
        "2. Read the excel file to store the weights and criteria values.\n",
        "3. Create Promethee instance with the read values\n",
        "4. Calculate the rankings"
      ]
    },
    {
      "cell_type": "code",
      "metadata": {
        "colab": {
          "base_uri": "https://localhost:8080/"
        },
        "id": "1q0uSZdgo_aC",
        "outputId": "681938ea-8b4f-4c80-d0ab-60587b83a89a"
      },
      "source": [
        "import numpy as np\n",
        "import pandas as pd \n",
        "\n",
        "filename = \"TOPSIS with custom weights.xlsx\"\n",
        "sheetname = \"Beginning\"\n",
        "xl = pd.read_excel(filename, sheet_name=sheetname)\n",
        "xl = pd.read_excel(filename, sheet_name=sheetname, usecols=range(1, len(xl.columns)+1))\n",
        "\n",
        "# initializing input matrix, weights, criterias\n",
        "input_matrix = xl.tail(n=len(xl.index) - 2).values.tolist()\n",
        "weights = xl.loc[0].values\n",
        "criterias = xl.head(n=0).columns.values\n",
        "new_criterias = []\n",
        "for criteria in criterias:\n",
        "  # if the attribute is non beneficiary, meaning min value is better -> False, \n",
        "  # otherwise, the criteria is True\n",
        "  new_criterias.append(False if criteria[0] == 'N' else True)\n",
        "print('input matrix: ', input_matrix)\n",
        "print('weights: ', weights)\n",
        "print('criterias: ', new_criterias)\n",
        "# creating Topsis instance with the values above\n"
      ],
      "execution_count": null,
      "outputs": [
        {
          "output_type": "stream",
          "name": "stdout",
          "text": [
            "input matrix:  [[21, 300, 90, 60], [45, 800, 74, 30], [64, 700, 12, 90], [86, 1000, 36, 10], [75, 100, 24, 5], [34, 1200, 47, 23], [56, 400, 55, 67], [90, 350, 67, 84], [60, 580, 74, 75], [70, 460, 86, 98], [80, 220, 98, 46], [10, 900, 40, 15]]\n",
            "weights:  [0 1 0 0]\n",
            "criterias:  [False, False, False, False]\n"
          ]
        }
      ]
    },
    {
      "cell_type": "code",
      "metadata": {
        "colab": {
          "base_uri": "https://localhost:8080/",
          "height": 453
        },
        "id": "0onm4YI3thKg",
        "outputId": "a33b0aec-b47e-4d1a-a37d-21ffae325840"
      },
      "source": [
        "p = Promethee(input_matrix, weights, new_criterias)\n",
        "\n",
        "# calculating the ranking\n",
        "p.calc()\n",
        "\n",
        "ranks = p.rank_to_preformance_score()\n",
        "print('\\nRanks\\n', ranks)\n",
        "print(\"Visualization graph:\")\n",
        "p.visualization(ranks)  \n"
      ],
      "execution_count": null,
      "outputs": [
        {
          "output_type": "stream",
          "name": "stdout",
          "text": [
            "ranks [5, 11, 1, 8, 7, 10, 9, 12, 6, 3, 2, 4]\n",
            "performance scores [ 0.28181818 -0.21404959 -0.11487603 -0.41239669  0.48016529  0.\n",
            "  0.23471074  0.2677686   0.14049587  0.2         0.37107438  0.03305785]\n",
            "Visualization graph:\n"
          ]
        },
        {
          "output_type": "display_data",
          "data": {
            "image/png": "[encoded data removed]",
            "text/plain": [
              "<Figure size 864x432 with 1 Axes>"
            ]
          },
          "metadata": {
            "needs_background": "light"
          }
        }
      ]
    }
  ]
}