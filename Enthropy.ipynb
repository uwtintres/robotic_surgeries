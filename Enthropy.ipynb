{
  "nbformat": 4,
  "nbformat_minor": 0,
  "metadata": {
    "colab": {
      "name": "Enthropy.ipynb",
      "provenance": [],
      "collapsed_sections": [],
      "authorship_tag": "ABX9TyMcMekSeqK1kYfbEdw5ozsV",
      "include_colab_link": true
    },
    "kernelspec": {
      "name": "python3",
      "display_name": "Python 3"
    },
    "language_info": {
      "name": "python"
    }
  },
  "cells": [
    {
      "cell_type": "markdown",
      "metadata": {
        "id": "view-in-github",
        "colab_type": "text"
      },
      "source": [
        "<a href=\"https://colab.research.google.com/github/uwtintres/robotic_surgeries/blob/main/Enthropy.ipynb\" target=\"_parent\"><img src=\"https://colab.research.google.com/assets/colab-badge.svg\" alt=\"Open In Colab\"/></a>"
      ]
    },
    {
      "cell_type": "markdown",
      "source": [
        "Project is the work of Alina Saduova, CSS graduate student at UWT, Spring'21. This notebook illustrates the implementation of weight generation by Entropy, where the weights are calculated according to the degree of diversity of the input data among each attribute."
      ],
      "metadata": {
        "id": "6ksUBQ9iyQpG"
      }
    },
    {
      "cell_type": "code",
      "metadata": {
        "id": "_ERq74u_McrP"
      },
      "source": [
        "import numpy as np\n",
        "\n",
        "def calc_enthropy(evaluation_matrix):\n",
        "  row_size = len(evaluation_matrix)\n",
        "  col_size = len(evaluation_matrix[0])\n",
        "  h = -0.621335\n",
        "  entropy_matrix = np.empty(shape=(row_size, col_size))\n",
        "  weight_vector = np.empty(shape=(1, col_size))\n",
        "  diversification = np.empty(shape=(1, col_size))\n",
        "  col_sum = np.empty(shape=(1, col_size))\n",
        "  for j in range(col_size):\n",
        "    cursum = 0\n",
        "    for i in range(row_size):\n",
        "      cursum += evaluation_matrix[i][j]\n",
        "    col_sum[0, j] = cursum\n",
        "\n",
        "  for i in range(row_size):\n",
        "    for j in range(col_size):\n",
        "      entropy_matrix[i,j] = evaluation_matrix[i][j] / col_sum[0, j]\n",
        "  print(\"\\nEntropy matrix:\\n\", entropy_matrix)\n",
        "\n",
        "  for i in range(row_size):\n",
        "    for j in range(col_size):\n",
        "      entropy_matrix[i,j] = np.log(entropy_matrix[i,j]) * entropy_matrix[i,j]\n",
        "  print(\"\\nEntropy matrix:\\n\", entropy_matrix)\n",
        "\n",
        "  for j in range(col_size):\n",
        "    cur_col_sum = sum(entropy_matrix[:, j])\n",
        "    diversification[0, j] = 1 - cur_col_sum * h\n",
        "  print(\"\\nDiversification: \", diversification)\n",
        "\n",
        "  for j in range(col_size):\n",
        "    weight_vector[0, j] = diversification[0, j] / sum(diversification[0, :])\n",
        "  print(\"\\nWeights: \", weight_vector)\n",
        "  return weight_vector"
      ],
      "execution_count": null,
      "outputs": []
    },
    {
      "cell_type": "markdown",
      "source": [
        "This is a driver code for the Entropy testing, where the input is the Excel file with the data of the format like in TOPSIS. However, we pass only the input matrix without the weights and the criteria because they are not required for the weights analysis."
      ],
      "metadata": {
        "id": "_nLM8TO9yj0G"
      }
    },
    {
      "cell_type": "code",
      "metadata": {
        "colab": {
          "base_uri": "https://localhost:8080/"
        },
        "id": "pjRIvWz6SwRE",
        "outputId": "4a4ae0cd-3935-4ff8-dee0-62b764a30216"
      },
      "source": [
        "import numpy as np\n",
        "import pandas as pd \n",
        "\n",
        "filename = \"TOPSIS with custom weights.xlsx\"\n",
        "sheetname = \"Beginning\"\n",
        "xl = pd.read_excel(filename, sheet_name=sheetname)\n",
        "xl = pd.read_excel(filename, sheet_name=sheetname, usecols=range(1, len(xl.columns)+1))\n",
        "\n",
        "# initializing input matrix\n",
        "input_matrix = xl.tail(n=len(xl.index) - 2).values.tolist()\n",
        "print('input matrix: ', input_matrix)\n"
      ],
      "execution_count": null,
      "outputs": [
        {
          "output_type": "stream",
          "name": "stdout",
          "text": [
            "input matrix:  [[1, 20, 100, 94], [4, 40, 30, 30], [5, 85, 90, 75], [7, 32, 600, 98], [3, 28, 800, 46], [8, 49, 1200, 15], [12, 56, 150, 68], [2, 71, 300, 23], [10, 66, 300, 57], [6, 79, 800, 83], [9, 10, 700, 39], [15, 18, 1000, 10]]\n",
            "weights:  [0.6 0.2 0.1 0.1]\n",
            "criterias:  [False, False, False, True]\n"
          ]
        }
      ]
    },
    {
      "cell_type": "code",
      "metadata": {
        "colab": {
          "base_uri": "https://localhost:8080/"
        },
        "id": "l5yLoS82TFHX",
        "outputId": "91601cba-bbc7-4bbb-af9a-b0380e2e1b0d"
      },
      "source": [
        "calc_enthropy(input_matrix)"
      ],
      "execution_count": null,
      "outputs": [
        {
          "output_type": "stream",
          "name": "stdout",
          "text": [
            "col_sum [[  82.  554. 6070.  638.]]\n",
            "entropy_matrix [[0.01219512 0.03610108 0.01647446 0.14733542]\n",
            " [0.04878049 0.07220217 0.00494234 0.04702194]\n",
            " [0.06097561 0.1534296  0.01482702 0.11755486]\n",
            " [0.08536585 0.05776173 0.09884679 0.15360502]\n",
            " [0.03658537 0.05054152 0.13179572 0.07210031]\n",
            " [0.09756098 0.08844765 0.19769357 0.02351097]\n",
            " [0.14634146 0.10108303 0.0247117  0.10658307]\n",
            " [0.02439024 0.12815884 0.04942339 0.03605016]\n",
            " [0.12195122 0.11913357 0.04942339 0.08934169]\n",
            " [0.07317073 0.14259928 0.13179572 0.13009404]\n",
            " [0.1097561  0.01805054 0.11532125 0.06112853]\n",
            " [0.18292683 0.03249097 0.16474465 0.01567398]]\n",
            "entropy_matrix [[-0.05374048 -0.11990731 -0.06764322 -0.28215374]\n",
            " [-0.1473378  -0.18976789 -0.02624341 -0.14375271]\n",
            " [-0.17056594 -0.28760585 -0.06244108 -0.25166734]\n",
            " [-0.21006907 -0.16470347 -0.22874968 -0.28775915]\n",
            " [-0.1210283  -0.15086441 -0.2670843  -0.18960197]\n",
            " [-0.22705148 -0.21451602 -0.32046861 -0.08817292]\n",
            " [-0.28124087 -0.23166341 -0.09144511 -0.23862144]\n",
            " [-0.09057493 -0.2633004  -0.14863252 -0.11978905]\n",
            " [-0.25660173 -0.25345786 -0.14863252 -0.21578583]\n",
            " [-0.19133852 -0.27774301 -0.2670843  -0.2653265 ]\n",
            " [-0.24250551 -0.07246534 -0.24909777 -0.17084058]\n",
            " [-0.31073214 -0.11133984 -0.29709367 -0.0651372 ]]\n",
            "diversification [[-0.43080202 -0.45226792 -0.35116516 -0.44063257]]\n",
            "weight_vector [[0.25721555 0.27003203 0.20966741 0.263085  ]]\n"
          ]
        },
        {
          "output_type": "execute_result",
          "data": {
            "text/plain": [
              "array([[0.25721555, 0.27003203, 0.20966741, 0.263085  ]])"
            ]
          },
          "metadata": {},
          "execution_count": 8
        }
      ]
    }
  ]
}