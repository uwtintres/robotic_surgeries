{
  "nbformat": 4,
  "nbformat_minor": 0,
  "metadata": {
    "colab": {
      "name": "Enthropy.ipynb",
      "provenance": [],
      "authorship_tag": "ABX9TyPCsRNGUYUCmSyt/VS1vbdE",
      "include_colab_link": true
    },
    "kernelspec": {
      "name": "python3",
      "display_name": "Python 3"
    },
    "language_info": {
      "name": "python"
    }
  },
  "cells": [
    {
      "cell_type": "markdown",
      "metadata": {
        "id": "view-in-github",
        "colab_type": "text"
      },
      "source": [
        "<a href=\"https://colab.research.google.com/github/uwtintres/robotic_surgeries/blob/main/Enthropy.ipynb\" target=\"_parent\"><img src=\"https://colab.research.google.com/assets/colab-badge.svg\" alt=\"Open In Colab\"/></a>"
      ]
    },
    {
      "cell_type": "code",
      "metadata": {
        "id": "_ERq74u_McrP"
      },
      "source": [
        "import numpy as np\n",
        "\n",
        "def calc_enthropy(evaluation_matrix):\n",
        "  row_size = len(evaluation_matrix)\n",
        "  col_size = len(evaluation_matrix[0])\n",
        "  h = -0.621335\n",
        "  entropy_matrix = np.empty(shape=(row_size, col_size))\n",
        "  weight_vector = np.empty(shape=(1, col_size))\n",
        "  diversification = np.empty(shape=(1, col_size))\n",
        "  col_sum = np.empty(shape=(1, col_size))\n",
        "  for j in range(col_size):\n",
        "    cursum = 0\n",
        "    for i in range(row_size):\n",
        "      cursum += evaluation_matrix[i][j]\n",
        "    col_sum[0, j] = cursum\n",
        "  print(\"col_sum\", col_sum)\n",
        "  for i in range(row_size):\n",
        "    for j in range(col_size):\n",
        "      entropy_matrix[i,j] = evaluation_matrix[i][j] / col_sum[0, j]\n",
        "  print(\"entropy_matrix\", entropy_matrix)\n",
        "  for i in range(row_size):\n",
        "    for j in range(col_size):\n",
        "      entropy_matrix[i,j] = np.log(entropy_matrix[i,j]) * entropy_matrix[i,j]\n",
        "  print(\"entropy_matrix\", entropy_matrix)\n",
        "  for j in range(col_size):\n",
        "    cur_col_sum = sum(entropy_matrix[:, j])\n",
        "    diversification[0, j] = 1 - cur_col_sum * h\n",
        "  print(\"diversification\", diversification)\n",
        "  for j in range(col_size):\n",
        "    weight_vector[0, j] = diversification[0, j] / sum(diversification[0, :])\n",
        "  print(\"weight_vector\", weight_vector)\n",
        "  return weight_vector"
      ],
      "execution_count": 23,
      "outputs": []
    },
    {
      "cell_type": "code",
      "metadata": {
        "colab": {
          "base_uri": "https://localhost:8080/"
        },
        "id": "pjRIvWz6SwRE",
        "outputId": "93c666a0-98c7-4de1-88a2-01efd0451aef"
      },
      "source": [
        "import numpy as np\n",
        "import pandas as pd \n",
        "\n",
        "xl = pd.read_excel(\"Fuzzy test.xlsx\", sheet_name=\"Sheet2\")\n",
        "xl = pd.read_excel(\"Fuzzy test.xlsx\", sheet_name=\"Sheet2\", \n",
        "                   usecols=range(1, len(xl.columns)+1))\n",
        "\n",
        "# initializing input matrix, weights, criterias\n",
        "input_matrix = xl.tail(n=len(xl.index) - 2).values.tolist()\n",
        "weights = xl.loc[0].values\n",
        "criterias = xl.head(n=0).columns.values\n",
        "new_criterias = []\n",
        "for criteria in criterias:\n",
        "  # if the attribute is non beneficiary, meaning min value is better -> False, \n",
        "  # otherwise, the criteria is True\n",
        "  new_criterias.append(False if criteria[0] == 'N' else True)\n",
        "print('input matrix: ', input_matrix)\n",
        "print('weights: ', weights)\n",
        "print('criterias: ', new_criterias)\n",
        "# creating Topsis instance with the values above\n"
      ],
      "execution_count": 24,
      "outputs": [
        {
          "output_type": "stream",
          "name": "stdout",
          "text": [
            "input matrix:  [[250, 16, 12, 5], [200, 16, 8, 3], [300, 32, 16, 4], [275, 32, 8, 4], [225, 16, 16, 2]]\n",
            "weights:  [0.25 0.25 0.25 0.25]\n",
            "criterias:  [False, True, True, True]\n"
          ]
        }
      ]
    },
    {
      "cell_type": "code",
      "metadata": {
        "colab": {
          "base_uri": "https://localhost:8080/"
        },
        "id": "l5yLoS82TFHX",
        "outputId": "b80e8dde-8f82-4b9d-8f3f-127b73d51e3f"
      },
      "source": [
        "calc_enthropy(input_matrix)"
      ],
      "execution_count": 25,
      "outputs": [
        {
          "output_type": "stream",
          "name": "stdout",
          "text": [
            "col_sum [[1250.  112.   60.   18.]]\n",
            "entropy_matrix [[0.2        0.14285714 0.2        0.27777778]\n",
            " [0.16       0.14285714 0.13333333 0.16666667]\n",
            " [0.24       0.28571429 0.26666667 0.22222222]\n",
            " [0.22       0.28571429 0.13333333 0.22222222]\n",
            " [0.18       0.14285714 0.26666667 0.11111111]]\n",
            "entropy_matrix [[-0.32188758 -0.27798716 -0.32188758 -0.35581496]\n",
            " [-0.29321303 -0.27798716 -0.26865374 -0.29862658]\n",
            " [-0.34250793 -0.35793228 -0.35246822 -0.33423942]\n",
            " [-0.3331081  -0.35793228 -0.26865374 -0.33423942]\n",
            " [-0.30866372 -0.27798716 -0.35246822 -0.24413606]]\n",
            "diversification [[0.006249   0.03703883 0.02815035 0.02633299]]\n",
            "weight_vector [[0.06391458 0.37883183 0.28792078 0.26933281]]\n"
          ]
        },
        {
          "output_type": "execute_result",
          "data": {
            "text/plain": [
              "array([[0.06391458, 0.37883183, 0.28792078, 0.26933281]])"
            ]
          },
          "metadata": {},
          "execution_count": 25
        }
      ]
    }
  ]
}